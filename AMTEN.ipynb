{
  "nbformat": 4,
  "nbformat_minor": 0,
  "metadata": {
    "accelerator": "GPU",
    "colab": {
      "name": "AMTEN.ipynb",
      "provenance": [],
      "include_colab_link": true
    },
    "kernelspec": {
      "display_name": "Python 3",
      "name": "python3"
    },
    "language_info": {
      "name": "python"
    }
  },
  "cells": [
    {
      "cell_type": "markdown",
      "metadata": {
        "id": "view-in-github",
        "colab_type": "text"
      },
      "source": [
        "<a href=\"https://colab.research.google.com/github/RVijayChiranjithReddy/Fake_face_detection/blob/main/AMTEN.ipynb\" target=\"_parent\"><img src=\"https://colab.research.google.com/assets/colab-badge.svg\" alt=\"Open In Colab\"/></a>"
      ]
    },
    {
      "cell_type": "code",
      "metadata": {
        "id": "D7cvllFcNSbY"
      },
      "source": [
        "import tensorflow as tf\n",
        "from tensorflow import keras\n",
        "from tensorflow.keras import layers, models\n",
        "from sklearn.preprocessing import LabelBinarizer\n",
        "from sklearn.model_selection import train_test_split\n",
        "import numpy as np\n",
        "from cv2 import resize\n",
        "from os import path, listdir\n",
        "from imutils import paths\n",
        "import numpy as np\n",
        "import random\n",
        "import os\n",
        "import cv2"
      ],
      "execution_count": null,
      "outputs": []
    },
    {
      "cell_type": "code",
      "metadata": {
        "colab": {
          "base_uri": "https://localhost:8080/"
        },
        "id": "kawlTZ-nBm1Y",
        "outputId": "b15bfc7f-2e57-4462-e1ed-e06a94803b1b"
      },
      "source": [
        "\n",
        "from google.colab import drive\n",
        "drive.mount('/content/drive')"
      ],
      "execution_count": null,
      "outputs": [
        {
          "output_type": "stream",
          "text": [
            "Mounted at /content/drive\n"
          ],
          "name": "stdout"
        }
      ]
    },
    {
      "cell_type": "code",
      "metadata": {
        "id": "LmE_5LyGolbg"
      },
      "source": [
        "#train_datagen = tf.keras.preprocessing.image.ImageDataGenerator(rotation_range=90, horizontal_flip=True,  validation_split = 0.2 )\n",
        "#train_it = train_datagen.flow_from_directory( '/content/drive/MyDrive/Minor_project/dataset/', target_size=(128, 128), batch_size=32, subset = 'training')\n",
        "#val_it = train_datagen.flow_from_directory( '/content/drive/MyDrive/Minor_project/dataset/', target_size=(128, 128), batch_size=32, subset= 'validation')\n",
        "\n"
      ],
      "execution_count": null,
      "outputs": []
    },
    {
      "cell_type": "code",
      "metadata": {
        "id": "zL3zX947h635"
      },
      "source": [
        "data = []\n",
        "labels = []\n",
        "i = 0\n",
        "imagePaths = sorted(list(paths.list_images('/content/drive/MyDrive/data1/train')))\n",
        "random.seed(42)\n",
        "random.shuffle(imagePaths)\n",
        "\n",
        "for imagePath in imagePaths:\n",
        "  label = imagePath.split(os.path.sep)[-2]\n",
        "  labels.append(label)\n",
        "\n",
        "(trainX, valX, _, _) = train_test_split(imagePaths,labels, test_size=0.2, random_state=42)\n",
        "labels = []\n",
        "for imagePath in trainX:\n",
        "  print(\"Loading image:\", i)\n",
        "  i = i + 1\n",
        "  image = cv2.imread(imagePath)\n",
        "  image = cv2.resize(image, (128, 128))\n",
        "  data.append(image)\n",
        "  label = imagePath.split(os.path.sep)[-2]\n",
        "  labels.append(label)"
      ],
      "execution_count": null,
      "outputs": []
    },
    {
      "cell_type": "code",
      "metadata": {
        "id": "ZHMl3DaDrSDu"
      },
      "source": [
        "trainX = np.array(data, dtype=\"float\") / 255.0\n",
        "trainY = np.array(labels)"
      ],
      "execution_count": null,
      "outputs": []
    },
    {
      "cell_type": "code",
      "metadata": {
        "id": "BZdcQbQdrVYx"
      },
      "source": [
        "data = []\n",
        "labels = []"
      ],
      "execution_count": null,
      "outputs": []
    },
    {
      "cell_type": "code",
      "metadata": {
        "id": "j5Ls4CMirZyd"
      },
      "source": [
        "valY = []\n",
        "for imagePath in valX:\n",
        "  print(\"Loading image:\", i)\n",
        "  i = i + 1\n",
        "  image = cv2.imread(imagePath)\n",
        "  image = cv2.resize(image, (128, 128))\n",
        "  data.append(image)\n",
        "  label = imagePath.split(os.path.sep)[-2]\n",
        "  valY.append(label)"
      ],
      "execution_count": null,
      "outputs": []
    },
    {
      "cell_type": "code",
      "metadata": {
        "id": "Ne34mnOFrnk6"
      },
      "source": [
        "valX = np.array(data, dtype=\"float\") / 255.0\n",
        "valY = np.array(valY)"
      ],
      "execution_count": null,
      "outputs": []
    },
    {
      "cell_type": "code",
      "metadata": {
        "id": "Ts-QUCntrrI7"
      },
      "source": [
        "lb = LabelBinarizer()\n",
        "trainY = lb.fit_transform(trainY)\n",
        "valY = lb.transform(valY)"
      ],
      "execution_count": null,
      "outputs": []
    },
    {
      "cell_type": "code",
      "metadata": {
        "colab": {
          "base_uri": "https://localhost:8080/"
        },
        "id": "HWjPqLGrzUYF",
        "outputId": "70abbe77-d654-4a44-c081-eb7b48fc33eb"
      },
      "source": [
        "x = layers.Input(shape=(128, 128, 3))\n",
        "x1 = layers.Conv2D(3, (3, 3),padding='same')(x)\n",
        "Fmt = layers.Subtract()([x1, x])\n",
        "t1 = layers.Conv2D(3, (3,3), padding = 'same')(Fmt)\n",
        "F1 = layers.Conv2D(3, (3,3), padding = 'same')(t1)\n",
        "t2 = layers.Concatenate()([F1, Fmt])\n",
        "t3 = layers.Conv2D(6, (3,3), padding = 'same')(t2)\n",
        "F2 = layers.Conv2D(6, (3,3), padding = 'same')(t3)\n",
        "Freu = layers.Concatenate()([F2, Fmt, t2])\n",
        "print(Freu.shape)\n",
        "\n",
        "C6 = layers.Conv2D(24, (3,3), padding = 'same')(Freu)\n",
        "M6 = layers.MaxPooling2D(pool_size=(3, 3), strides=(2, 2), padding='valid')(C6)\n",
        "A6 = layers.Activation('relu')(M6)\n",
        "BN6 = layers.BatchNormalization(axis=-1, momentum=0.95,epsilon=0.005)(A6)\n",
        "d1 = layers.Dropout(.2)(BN6)\n",
        "\n",
        "C7 = layers.Conv2D(48, (3,3), padding = 'valid')(d1)\n",
        "M7 = layers.MaxPooling2D(pool_size=(3, 3), strides=(2, 2), padding='valid')(C7)\n",
        "A7 = layers.Activation('relu')(M7)\n",
        "BN7 = layers.BatchNormalization(axis=-1, momentum=0.95,epsilon=0.005)(A7)\n",
        "print(BN7.shape)\n",
        "\n",
        "C8 = layers.Conv2D(64, (3,3), padding = 'valid')(BN7)\n",
        "M8 = layers.MaxPooling2D(pool_size=(3, 3), strides=(2, 2), padding='valid')(C8)\n",
        "A8 = layers.Activation('relu')(M8)\n",
        "BN8 = layers.BatchNormalization(axis=-1, momentum=0.95,epsilon=0.005)(A8)\n",
        "d2 = layers.Dropout(.2)(BN8)\n",
        "print(BN8.shape)\n",
        "\n",
        "C9 = layers.Conv2D(128, (1,1), padding = 'valid')(d2)\n",
        "M9 = layers.MaxPooling2D(pool_size=(3, 3), strides=(2, 2), padding='valid')(C9)\n",
        "A9 = layers.Activation('relu')(M9)\n",
        "\n",
        "#print(A9.shape)\n",
        "#t = resnet(Freu)\n",
        "t4 = layers.Flatten()(M9)\n",
        "FC1 = layers.Dense(300)(t4)\n",
        "FC2 = layers.Dense(300)(FC1)\n",
        "FC3 = layers.Dense(1, activation = 'sigmoid')(FC2)\n",
        "model = tf.keras.Model(inputs=x, outputs=FC3)"
      ],
      "execution_count": null,
      "outputs": [
        {
          "output_type": "stream",
          "text": [
            "(None, 128, 128, 15)\n",
            "(None, 30, 30, 48)\n",
            "(None, 13, 13, 64)\n"
          ],
          "name": "stdout"
        }
      ]
    },
    {
      "cell_type": "code",
      "metadata": {
        "colab": {
          "base_uri": "https://localhost:8080/"
        },
        "id": "CL0te3k3Jv-4",
        "outputId": "da32f118-775c-40b8-99e4-65c6838b175c"
      },
      "source": [
        "model.summary()"
      ],
      "execution_count": null,
      "outputs": [
        {
          "output_type": "stream",
          "text": [
            "Model: \"model\"\n",
            "__________________________________________________________________________________________________\n",
            "Layer (type)                    Output Shape         Param #     Connected to                     \n",
            "==================================================================================================\n",
            "input_2 (InputLayer)            [(None, 128, 128, 3) 0                                            \n",
            "__________________________________________________________________________________________________\n",
            "conv2d_9 (Conv2D)               (None, 128, 128, 3)  84          input_2[0][0]                    \n",
            "__________________________________________________________________________________________________\n",
            "subtract_1 (Subtract)           (None, 128, 128, 3)  0           conv2d_9[0][0]                   \n",
            "                                                                 input_2[0][0]                    \n",
            "__________________________________________________________________________________________________\n",
            "conv2d_10 (Conv2D)              (None, 128, 128, 3)  84          subtract_1[0][0]                 \n",
            "__________________________________________________________________________________________________\n",
            "conv2d_11 (Conv2D)              (None, 128, 128, 3)  84          conv2d_10[0][0]                  \n",
            "__________________________________________________________________________________________________\n",
            "concatenate_2 (Concatenate)     (None, 128, 128, 6)  0           conv2d_11[0][0]                  \n",
            "                                                                 subtract_1[0][0]                 \n",
            "__________________________________________________________________________________________________\n",
            "conv2d_12 (Conv2D)              (None, 128, 128, 6)  330         concatenate_2[0][0]              \n",
            "__________________________________________________________________________________________________\n",
            "conv2d_13 (Conv2D)              (None, 128, 128, 6)  330         conv2d_12[0][0]                  \n",
            "__________________________________________________________________________________________________\n",
            "concatenate_3 (Concatenate)     (None, 128, 128, 15) 0           conv2d_13[0][0]                  \n",
            "                                                                 subtract_1[0][0]                 \n",
            "                                                                 concatenate_2[0][0]              \n",
            "__________________________________________________________________________________________________\n",
            "conv2d_14 (Conv2D)              (None, 128, 128, 24) 3264        concatenate_3[0][0]              \n",
            "__________________________________________________________________________________________________\n",
            "max_pooling2d_3 (MaxPooling2D)  (None, 63, 63, 24)   0           conv2d_14[0][0]                  \n",
            "__________________________________________________________________________________________________\n",
            "activation_3 (Activation)       (None, 63, 63, 24)   0           max_pooling2d_3[0][0]            \n",
            "__________________________________________________________________________________________________\n",
            "batch_normalization_3 (BatchNor (None, 63, 63, 24)   96          activation_3[0][0]               \n",
            "__________________________________________________________________________________________________\n",
            "dropout_2 (Dropout)             (None, 63, 63, 24)   0           batch_normalization_3[0][0]      \n",
            "__________________________________________________________________________________________________\n",
            "conv2d_15 (Conv2D)              (None, 61, 61, 48)   10416       dropout_2[0][0]                  \n",
            "__________________________________________________________________________________________________\n",
            "max_pooling2d_4 (MaxPooling2D)  (None, 30, 30, 48)   0           conv2d_15[0][0]                  \n",
            "__________________________________________________________________________________________________\n",
            "activation_4 (Activation)       (None, 30, 30, 48)   0           max_pooling2d_4[0][0]            \n",
            "__________________________________________________________________________________________________\n",
            "batch_normalization_4 (BatchNor (None, 30, 30, 48)   192         activation_4[0][0]               \n",
            "__________________________________________________________________________________________________\n",
            "conv2d_16 (Conv2D)              (None, 28, 28, 64)   27712       batch_normalization_4[0][0]      \n",
            "__________________________________________________________________________________________________\n",
            "max_pooling2d_5 (MaxPooling2D)  (None, 13, 13, 64)   0           conv2d_16[0][0]                  \n",
            "__________________________________________________________________________________________________\n",
            "activation_5 (Activation)       (None, 13, 13, 64)   0           max_pooling2d_5[0][0]            \n",
            "__________________________________________________________________________________________________\n",
            "batch_normalization_5 (BatchNor (None, 13, 13, 64)   256         activation_5[0][0]               \n",
            "__________________________________________________________________________________________________\n",
            "dropout_3 (Dropout)             (None, 13, 13, 64)   0           batch_normalization_5[0][0]      \n",
            "__________________________________________________________________________________________________\n",
            "conv2d_17 (Conv2D)              (None, 13, 13, 128)  8320        dropout_3[0][0]                  \n",
            "__________________________________________________________________________________________________\n",
            "max_pooling2d_6 (MaxPooling2D)  (None, 6, 6, 128)    0           conv2d_17[0][0]                  \n",
            "__________________________________________________________________________________________________\n",
            "flatten (Flatten)               (None, 4608)         0           max_pooling2d_6[0][0]            \n",
            "__________________________________________________________________________________________________\n",
            "dense (Dense)                   (None, 300)          1382700     flatten[0][0]                    \n",
            "__________________________________________________________________________________________________\n",
            "dense_1 (Dense)                 (None, 300)          90300       dense[0][0]                      \n",
            "__________________________________________________________________________________________________\n",
            "dense_2 (Dense)                 (None, 1)            301         dense_1[0][0]                    \n",
            "==================================================================================================\n",
            "Total params: 1,524,469\n",
            "Trainable params: 1,524,197\n",
            "Non-trainable params: 272\n",
            "__________________________________________________________________________________________________\n"
          ],
          "name": "stdout"
        }
      ]
    },
    {
      "cell_type": "code",
      "metadata": {
        "id": "x3j4vY_7yz2Q"
      },
      "source": [
        "import math\n",
        "initial_learning_rate = 0.01\n",
        "def lr_step_decay(epoch, lr):\n",
        "  drop_rate = 0.5\n",
        "  epochs_drop = 10.0\n",
        "  return initial_learning_rate * math.pow(drop_rate, math.floor(epoch/epochs_drop))"
      ],
      "execution_count": null,
      "outputs": []
    },
    {
      "cell_type": "code",
      "metadata": {
        "id": "mQKbL78PkSkk",
        "colab": {
          "base_uri": "https://localhost:8080/"
        },
        "outputId": "bab7ed11-64af-46c9-db20-61342a4905ed"
      },
      "source": [
        "opt = tf.keras.optimizers.SGD(learning_rate=0.1, momentum = 0.95, decay=0.005)\n",
        "\n",
        "model.compile(loss='binary_crossentropy', optimizer=opt, metrics=['accuracy'], steps_per_execution = 1)\n",
        "model.load_weights('/content/drive/MyDrive/model/amten/AMNET3.h5')\n",
        "history = model.fit(trainX, trainY, validation_data=(valX,valY), epochs=50, batch_size = 32, verbose=1, callbacks=[tf.keras.callbacks.LearningRateScheduler(lr_step_decay, verbose=1)])"
      ],
      "execution_count": null,
      "outputs": [
        {
          "output_type": "stream",
          "text": [
            "Epoch 1/50\n",
            "\n",
            "Epoch 00001: LearningRateScheduler reducing learning rate to 0.01.\n",
            "380/380 [==============================] - 54s 53ms/step - loss: 0.6601 - accuracy: 0.7214 - val_loss: 0.4449 - val_accuracy: 0.8007\n",
            "Epoch 2/50\n",
            "\n",
            "Epoch 00002: LearningRateScheduler reducing learning rate to 0.01.\n",
            "380/380 [==============================] - 18s 48ms/step - loss: 0.4001 - accuracy: 0.8149 - val_loss: 0.4045 - val_accuracy: 0.8135\n",
            "Epoch 3/50\n",
            "\n",
            "Epoch 00003: LearningRateScheduler reducing learning rate to 0.01.\n",
            "380/380 [==============================] - 19s 49ms/step - loss: 0.3707 - accuracy: 0.8310 - val_loss: 0.3721 - val_accuracy: 0.8353\n",
            "Epoch 4/50\n",
            "\n",
            "Epoch 00004: LearningRateScheduler reducing learning rate to 0.01.\n",
            "380/380 [==============================] - 19s 50ms/step - loss: 0.3564 - accuracy: 0.8397 - val_loss: 0.3601 - val_accuracy: 0.8376\n",
            "Epoch 5/50\n",
            "\n",
            "Epoch 00005: LearningRateScheduler reducing learning rate to 0.01.\n",
            "380/380 [==============================] - 18s 49ms/step - loss: 0.3423 - accuracy: 0.8448 - val_loss: 0.3630 - val_accuracy: 0.8379\n",
            "Epoch 6/50\n",
            "\n",
            "Epoch 00006: LearningRateScheduler reducing learning rate to 0.01.\n",
            "380/380 [==============================] - 18s 49ms/step - loss: 0.3328 - accuracy: 0.8544 - val_loss: 0.3518 - val_accuracy: 0.8362\n",
            "Epoch 7/50\n",
            "\n",
            "Epoch 00007: LearningRateScheduler reducing learning rate to 0.01.\n",
            "380/380 [==============================] - 19s 49ms/step - loss: 0.3255 - accuracy: 0.8574 - val_loss: 0.3364 - val_accuracy: 0.8465\n",
            "Epoch 8/50\n",
            "\n",
            "Epoch 00008: LearningRateScheduler reducing learning rate to 0.01.\n",
            "380/380 [==============================] - 19s 49ms/step - loss: 0.3265 - accuracy: 0.8528 - val_loss: 0.3351 - val_accuracy: 0.8461\n",
            "Epoch 9/50\n",
            "\n",
            "Epoch 00009: LearningRateScheduler reducing learning rate to 0.01.\n",
            "380/380 [==============================] - 19s 49ms/step - loss: 0.3172 - accuracy: 0.8625 - val_loss: 0.3341 - val_accuracy: 0.8501\n",
            "Epoch 10/50\n",
            "\n",
            "Epoch 00010: LearningRateScheduler reducing learning rate to 0.01.\n",
            "380/380 [==============================] - 19s 49ms/step - loss: 0.3105 - accuracy: 0.8622 - val_loss: 0.3527 - val_accuracy: 0.8474\n",
            "Epoch 11/50\n",
            "\n",
            "Epoch 00011: LearningRateScheduler reducing learning rate to 0.005.\n",
            "380/380 [==============================] - 19s 49ms/step - loss: 0.2989 - accuracy: 0.8668 - val_loss: 0.3280 - val_accuracy: 0.8491\n",
            "Epoch 12/50\n",
            "\n",
            "Epoch 00012: LearningRateScheduler reducing learning rate to 0.005.\n",
            "380/380 [==============================] - 19s 49ms/step - loss: 0.3039 - accuracy: 0.8693 - val_loss: 0.3244 - val_accuracy: 0.8501\n",
            "Epoch 13/50\n",
            "\n",
            "Epoch 00013: LearningRateScheduler reducing learning rate to 0.005.\n",
            "380/380 [==============================] - 19s 49ms/step - loss: 0.2961 - accuracy: 0.8683 - val_loss: 0.3364 - val_accuracy: 0.8474\n",
            "Epoch 14/50\n",
            "\n",
            "Epoch 00014: LearningRateScheduler reducing learning rate to 0.005.\n",
            "380/380 [==============================] - 19s 49ms/step - loss: 0.2968 - accuracy: 0.8733 - val_loss: 0.3287 - val_accuracy: 0.8488\n",
            "Epoch 15/50\n",
            "\n",
            "Epoch 00015: LearningRateScheduler reducing learning rate to 0.005.\n",
            "380/380 [==============================] - 18s 49ms/step - loss: 0.2903 - accuracy: 0.8719 - val_loss: 0.3256 - val_accuracy: 0.8521\n",
            "Epoch 16/50\n",
            "\n",
            "Epoch 00016: LearningRateScheduler reducing learning rate to 0.005.\n",
            "380/380 [==============================] - 19s 49ms/step - loss: 0.2911 - accuracy: 0.8713 - val_loss: 0.3225 - val_accuracy: 0.8504\n",
            "Epoch 17/50\n",
            "\n",
            "Epoch 00017: LearningRateScheduler reducing learning rate to 0.005.\n",
            "380/380 [==============================] - 19s 49ms/step - loss: 0.2928 - accuracy: 0.8718 - val_loss: 0.3231 - val_accuracy: 0.8567\n",
            "Epoch 18/50\n",
            "\n",
            "Epoch 00018: LearningRateScheduler reducing learning rate to 0.005.\n",
            "380/380 [==============================] - 19s 49ms/step - loss: 0.2824 - accuracy: 0.8750 - val_loss: 0.3270 - val_accuracy: 0.8501\n",
            "Epoch 19/50\n",
            "\n",
            "Epoch 00019: LearningRateScheduler reducing learning rate to 0.005.\n",
            "380/380 [==============================] - 19s 49ms/step - loss: 0.2979 - accuracy: 0.8683 - val_loss: 0.3247 - val_accuracy: 0.8521\n",
            "Epoch 20/50\n",
            "\n",
            "Epoch 00020: LearningRateScheduler reducing learning rate to 0.005.\n",
            "380/380 [==============================] - 18s 49ms/step - loss: 0.2875 - accuracy: 0.8755 - val_loss: 0.3229 - val_accuracy: 0.8593\n",
            "Epoch 21/50\n",
            "\n",
            "Epoch 00021: LearningRateScheduler reducing learning rate to 0.0025.\n",
            "380/380 [==============================] - 18s 48ms/step - loss: 0.2847 - accuracy: 0.8745 - val_loss: 0.3238 - val_accuracy: 0.8530\n",
            "Epoch 22/50\n",
            "\n",
            "Epoch 00022: LearningRateScheduler reducing learning rate to 0.0025.\n",
            "380/380 [==============================] - 18s 48ms/step - loss: 0.2832 - accuracy: 0.8761 - val_loss: 0.3231 - val_accuracy: 0.8580\n",
            "Epoch 23/50\n",
            "\n",
            "Epoch 00023: LearningRateScheduler reducing learning rate to 0.0025.\n",
            "380/380 [==============================] - 18s 48ms/step - loss: 0.2809 - accuracy: 0.8815 - val_loss: 0.3214 - val_accuracy: 0.8573\n",
            "Epoch 24/50\n",
            "\n",
            "Epoch 00024: LearningRateScheduler reducing learning rate to 0.0025.\n",
            "380/380 [==============================] - 18s 49ms/step - loss: 0.2895 - accuracy: 0.8743 - val_loss: 0.3135 - val_accuracy: 0.8590\n",
            "Epoch 25/50\n",
            "\n",
            "Epoch 00025: LearningRateScheduler reducing learning rate to 0.0025.\n",
            "380/380 [==============================] - 18s 48ms/step - loss: 0.2841 - accuracy: 0.8779 - val_loss: 0.3173 - val_accuracy: 0.8586\n",
            "Epoch 26/50\n",
            "\n",
            "Epoch 00026: LearningRateScheduler reducing learning rate to 0.0025.\n",
            "380/380 [==============================] - 18s 48ms/step - loss: 0.2881 - accuracy: 0.8779 - val_loss: 0.3192 - val_accuracy: 0.8573\n",
            "Epoch 27/50\n",
            "\n",
            "Epoch 00027: LearningRateScheduler reducing learning rate to 0.0025.\n",
            "380/380 [==============================] - 18s 48ms/step - loss: 0.2755 - accuracy: 0.8816 - val_loss: 0.3194 - val_accuracy: 0.8590\n",
            "Epoch 28/50\n",
            "\n",
            "Epoch 00028: LearningRateScheduler reducing learning rate to 0.0025.\n",
            "380/380 [==============================] - 18s 48ms/step - loss: 0.2862 - accuracy: 0.8747 - val_loss: 0.3162 - val_accuracy: 0.8544\n",
            "Epoch 29/50\n",
            "\n",
            "Epoch 00029: LearningRateScheduler reducing learning rate to 0.0025.\n",
            "380/380 [==============================] - 18s 49ms/step - loss: 0.2767 - accuracy: 0.8785 - val_loss: 0.3163 - val_accuracy: 0.8590\n",
            "Epoch 30/50\n",
            "\n",
            "Epoch 00030: LearningRateScheduler reducing learning rate to 0.0025.\n",
            "380/380 [==============================] - 18s 48ms/step - loss: 0.2949 - accuracy: 0.8680 - val_loss: 0.3175 - val_accuracy: 0.8613\n",
            "Epoch 31/50\n",
            "\n",
            "Epoch 00031: LearningRateScheduler reducing learning rate to 0.00125.\n",
            "380/380 [==============================] - 18s 48ms/step - loss: 0.2875 - accuracy: 0.8739 - val_loss: 0.3153 - val_accuracy: 0.8586\n",
            "Epoch 32/50\n",
            "\n",
            "Epoch 00032: LearningRateScheduler reducing learning rate to 0.00125.\n",
            "380/380 [==============================] - 18s 48ms/step - loss: 0.2839 - accuracy: 0.8752 - val_loss: 0.3158 - val_accuracy: 0.8610\n",
            "Epoch 33/50\n",
            "\n",
            "Epoch 00033: LearningRateScheduler reducing learning rate to 0.00125.\n",
            "380/380 [==============================] - 18s 48ms/step - loss: 0.2823 - accuracy: 0.8779 - val_loss: 0.3171 - val_accuracy: 0.8613\n",
            "Epoch 34/50\n",
            "\n",
            "Epoch 00034: LearningRateScheduler reducing learning rate to 0.00125.\n",
            "380/380 [==============================] - 18s 48ms/step - loss: 0.2697 - accuracy: 0.8849 - val_loss: 0.3168 - val_accuracy: 0.8610\n",
            "Epoch 35/50\n",
            "\n",
            "Epoch 00035: LearningRateScheduler reducing learning rate to 0.00125.\n",
            "380/380 [==============================] - 18s 48ms/step - loss: 0.2845 - accuracy: 0.8695 - val_loss: 0.3159 - val_accuracy: 0.8600\n",
            "Epoch 36/50\n",
            "\n",
            "Epoch 00036: LearningRateScheduler reducing learning rate to 0.00125.\n",
            "380/380 [==============================] - 18s 48ms/step - loss: 0.2791 - accuracy: 0.8789 - val_loss: 0.3155 - val_accuracy: 0.8613\n",
            "Epoch 37/50\n",
            "\n",
            "Epoch 00037: LearningRateScheduler reducing learning rate to 0.00125.\n",
            "380/380 [==============================] - 18s 48ms/step - loss: 0.2748 - accuracy: 0.8786 - val_loss: 0.3153 - val_accuracy: 0.8577\n",
            "Epoch 38/50\n",
            "\n",
            "Epoch 00038: LearningRateScheduler reducing learning rate to 0.00125.\n",
            "380/380 [==============================] - 18s 49ms/step - loss: 0.2751 - accuracy: 0.8739 - val_loss: 0.3150 - val_accuracy: 0.8596\n",
            "Epoch 39/50\n",
            "\n",
            "Epoch 00039: LearningRateScheduler reducing learning rate to 0.00125.\n",
            "380/380 [==============================] - 18s 49ms/step - loss: 0.2743 - accuracy: 0.8844 - val_loss: 0.3164 - val_accuracy: 0.8613\n",
            "Epoch 40/50\n",
            "\n",
            "Epoch 00040: LearningRateScheduler reducing learning rate to 0.00125.\n",
            "380/380 [==============================] - 19s 49ms/step - loss: 0.2800 - accuracy: 0.8775 - val_loss: 0.3151 - val_accuracy: 0.8590\n",
            "Epoch 41/50\n",
            "\n",
            "Epoch 00041: LearningRateScheduler reducing learning rate to 0.000625.\n",
            "380/380 [==============================] - 19s 49ms/step - loss: 0.2766 - accuracy: 0.8779 - val_loss: 0.3146 - val_accuracy: 0.8593\n",
            "Epoch 42/50\n",
            "\n",
            "Epoch 00042: LearningRateScheduler reducing learning rate to 0.000625.\n",
            "380/380 [==============================] - 19s 49ms/step - loss: 0.2763 - accuracy: 0.8797 - val_loss: 0.3159 - val_accuracy: 0.8619\n",
            "Epoch 43/50\n",
            "\n",
            "Epoch 00043: LearningRateScheduler reducing learning rate to 0.000625.\n",
            "380/380 [==============================] - 18s 49ms/step - loss: 0.2776 - accuracy: 0.8815 - val_loss: 0.3152 - val_accuracy: 0.8600\n",
            "Epoch 44/50\n",
            "\n",
            "Epoch 00044: LearningRateScheduler reducing learning rate to 0.000625.\n",
            "380/380 [==============================] - 18s 49ms/step - loss: 0.2655 - accuracy: 0.8877 - val_loss: 0.3155 - val_accuracy: 0.8606\n",
            "Epoch 45/50\n",
            "\n",
            "Epoch 00045: LearningRateScheduler reducing learning rate to 0.000625.\n",
            "380/380 [==============================] - 19s 49ms/step - loss: 0.2752 - accuracy: 0.8779 - val_loss: 0.3167 - val_accuracy: 0.8606\n",
            "Epoch 46/50\n",
            "\n",
            "Epoch 00046: LearningRateScheduler reducing learning rate to 0.000625.\n",
            "380/380 [==============================] - 19s 49ms/step - loss: 0.2741 - accuracy: 0.8790 - val_loss: 0.3142 - val_accuracy: 0.8600\n",
            "Epoch 47/50\n",
            "\n",
            "Epoch 00047: LearningRateScheduler reducing learning rate to 0.000625.\n",
            "380/380 [==============================] - 19s 49ms/step - loss: 0.2862 - accuracy: 0.8805 - val_loss: 0.3168 - val_accuracy: 0.8606\n",
            "Epoch 48/50\n",
            "\n",
            "Epoch 00048: LearningRateScheduler reducing learning rate to 0.000625.\n",
            "380/380 [==============================] - 19s 49ms/step - loss: 0.2718 - accuracy: 0.8803 - val_loss: 0.3152 - val_accuracy: 0.8610\n",
            "Epoch 49/50\n",
            "\n",
            "Epoch 00049: LearningRateScheduler reducing learning rate to 0.000625.\n",
            "380/380 [==============================] - 19s 49ms/step - loss: 0.2817 - accuracy: 0.8747 - val_loss: 0.3141 - val_accuracy: 0.8600\n",
            "Epoch 50/50\n",
            "\n",
            "Epoch 00050: LearningRateScheduler reducing learning rate to 0.000625.\n",
            "380/380 [==============================] - 18s 49ms/step - loss: 0.2820 - accuracy: 0.8757 - val_loss: 0.3148 - val_accuracy: 0.8570\n"
          ],
          "name": "stdout"
        }
      ]
    },
    {
      "cell_type": "code",
      "metadata": {
        "id": "SmIsJVPoZAv5"
      },
      "source": [
        "model.save_weights('/content/drive/MyDrive/model/amten/AMNET4.h5')"
      ],
      "execution_count": null,
      "outputs": []
    },
    {
      "cell_type": "code",
      "metadata": {
        "colab": {
          "base_uri": "https://localhost:8080/",
          "height": 573
        },
        "id": "JVk84mPZpmoS",
        "outputId": "b87fb90b-748a-4191-889c-d51a528bf6e9"
      },
      "source": [
        "import matplotlib.pyplot as plt\n",
        "\n",
        "plt.plot(history.history['accuracy'])\n",
        "plt.plot(history.history['val_accuracy'])\n",
        "plt.title('model accuracy')\n",
        "plt.ylabel('accuracy')\n",
        "plt.xlabel('epoch')\n",
        "plt.legend(['train', 'test'], loc='upper left')\n",
        "#plt.savefig('/content/drive/MyDrive/minor_data/accuracy.jpg', dpi=300, bbox_inches='tight')\n",
        "plt.show()\n",
        "# summarize history for loss\n",
        "plt.plot(history.history['loss'])\n",
        "plt.plot(history.history['val_loss'])\n",
        "plt.title('model loss')\n",
        "plt.ylabel('loss')\n",
        "plt.xlabel('epoch')\n",
        "plt.legend(['train', 'test'], loc='upper left')\n",
        "#plt.savefig('/content/drive/MyDrive/minor_data/loss.jpg', dpi=300, bbox_inches='tight')\n",
        "plt.show()"
      ],
      "execution_count": null,
      "outputs": [
        {
          "output_type": "display_data",
          "data": {
            "image/png": "[encoded data removed]",
            "text/plain": [
              "<Figure size 432x288 with 1 Axes>"
            ]
          },
          "metadata": {
            "tags": [],
            "needs_background": "light"
          }
        },
        {
          "output_type": "display_data",
          "data": {
            "image/png": "[encoded data removed]",
            "text/plain": [
              "<Figure size 432x288 with 1 Axes>"
            ]
          },
          "metadata": {
            "tags": [],
            "needs_background": "light"
          }
        }
      ]
    },
    {
      "cell_type": "code",
      "metadata": {
        "colab": {
          "base_uri": "https://localhost:8080/"
        },
        "id": "FBLVJIVZqodg",
        "outputId": "6237eebb-a1f9-474d-dd43-849ecbbd74f4"
      },
      "source": [
        "model.evaluate(test_it, batch_size=8, verbose=1)"
      ],
      "execution_count": null,
      "outputs": [
        {
          "output_type": "stream",
          "text": [
            "85/85 [==============================] - 244s 3s/step - loss: 0.2268 - accuracy: 0.9064\n"
          ],
          "name": "stdout"
        },
        {
          "output_type": "execute_result",
          "data": {
            "text/plain": [
              "[0.22682568430900574, 0.9063892960548401]"
            ]
          },
          "metadata": {
            "tags": []
          },
          "execution_count": 13
        }
      ]
    },
    {
      "cell_type": "code",
      "metadata": {
        "id": "nYfyp_oKkuHJ"
      },
      "source": [
        "model = models.load_model('/content/drive/MyDrive/minor_data/AMNET.h5')"
      ],
      "execution_count": null,
      "outputs": []
    },
    {
      "cell_type": "code",
      "metadata": {
        "colab": {
          "base_uri": "https://localhost:8080/"
        },
        "id": "WEn3LMGKlPSz",
        "outputId": "b5260134-8638-4f52-cbd0-eba3a4f038a2"
      },
      "source": [
        "import cv2\n",
        "img = cv2.imread('/content/c.jpeg')\n",
        "img = cv2.cvtColor(img, cv2.COLOR_BGR2RGB)\n",
        "img = cv2.resize(img, (128, 128))\n",
        "data = np.asarray( img, dtype=\"int32\" )\n",
        "im = np.resize(data, (1, 128, 128, 3))\n",
        "model.predict(im, batch_size = 1)\n"
      ],
      "execution_count": null,
      "outputs": [
        {
          "output_type": "execute_result",
          "data": {
            "text/plain": [
              "array([[0.11535734, 0.88464266]], dtype=float32)"
            ]
          },
          "metadata": {
            "tags": []
          },
          "execution_count": 15
        }
      ]
    },
    {
      "cell_type": "code",
      "metadata": {
        "colab": {
          "base_uri": "https://localhost:8080/"
        },
        "id": "1hT5KtrqZOzN",
        "outputId": "2d78318d-0913-4a67-802e-b185b3adeb2c"
      },
      "source": [
        "!pip install visualkeras"
      ],
      "execution_count": null,
      "outputs": [
        {
          "output_type": "stream",
          "text": [
            "Collecting visualkeras\n",
            "  Downloading https://files.pythonhosted.org/packages/a5/93/abd375b37add77d58a8c48a506ae39bb77c4380e2507ea444325ff1b9971/visualkeras-0.0.2-py3-none-any.whl\n",
            "Requirement already satisfied: numpy>=1.18.1 in /usr/local/lib/python3.7/dist-packages (from visualkeras) (1.19.5)\n",
            "Requirement already satisfied: pillow>=6.2.0 in /usr/local/lib/python3.7/dist-packages (from visualkeras) (7.1.2)\n",
            "Collecting aggdraw>=1.3.11\n",
            "\u001b[?25l  Downloading https://files.pythonhosted.org/packages/34/ca/440addbccb916f7f68a78484eff953917c59fc2e41b2440f9be327742e39/aggdraw-1.3.12-cp37-cp37m-manylinux2010_x86_64.whl (795kB)\n",
            "\u001b[K     |████████████████████████████████| 798kB 7.2MB/s \n",
            "\u001b[?25hInstalling collected packages: aggdraw, visualkeras\n",
            "Successfully installed aggdraw-1.3.12 visualkeras-0.0.2\n"
          ],
          "name": "stdout"
        }
      ]
    },
    {
      "cell_type": "code",
      "metadata": {
        "colab": {
          "base_uri": "https://localhost:8080/",
          "height": 600
        },
        "id": "FcDAWi23ZNvS",
        "outputId": "e5d8e7ea-899d-4be0-adf1-db1cb51a63b3"
      },
      "source": [
        "import visualkeras\n",
        "\n",
        "# visualkeras.layered_view(model).show() # display using your system viewer\n",
        "visualkeras.layered_view(model,legend=True, to_file='output.png') # write to disk\n",
        "visualkeras.layered_view(model,legend=True, to_file='output.png').show() # write and show\n",
        "\n",
        "visualkeras.layered_view(model,legend=True)"
      ],
      "execution_count": null,
      "outputs": [
        {
          "output_type": "execute_result",
          "data": {
            "image/png": "[encoded data removed]",
            "text/plain": [
              "<PIL.Image.Image image mode=RGBA size=1369x719 at 0x7F68581D33D0>"
            ]
          },
          "metadata": {
            "tags": []
          },
          "execution_count": 17
        }
      ]
    }
  ]
}